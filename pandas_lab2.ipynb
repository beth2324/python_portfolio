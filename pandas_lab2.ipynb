{
 "cells": [
  {
   "cell_type": "markdown",
   "metadata": {},
   "source": [
    "evaught@uncc.edu\n",
    "Beth Vaught\n",
    "- 4/15/2024 - pandas lab 2"
   ]
  },
  {
   "cell_type": "code",
   "execution_count": null,
   "metadata": {},
   "outputs": [],
   "source": [
    "path=\"\"\n",
    "file=\"institutions_data.csv\"\n",
    "new_file=\"inst_data.csv\""
   ]
  },
  {
   "cell_type": "markdown",
   "metadata": {},
   "source": [
    "Given: Colleges with 7,000 or more undergraduate students\n",
    "- Documentation explaining column values: https://collegescorecard.ed.gov/data/glossary/ \n",
    "\n",
    "\n",
    "Sort in decending order by the percent of students receiving federal loans\n",
    "- https://pandas.pydata.org/pandas-docs/stable/reference/api/pandas.DataFrame.sort_values.html#pandas.DataFrame.sort_values"
   ]
  },
  {
   "cell_type": "code",
   "execution_count": null,
   "metadata": {},
   "outputs": [],
   "source": [
    "\n",
    "#condense csv data into new file with only needed qualities\n",
    "with open(path+file,\"r\") as file1:\n",
    "    with open(new_file,\"w\") as file2:\n",
    "        for i,line in enumerate(file1):\n",
    "            line=line.split(\",\")\n",
    "            #filter for only institutions with complete,proportion, loan data\n",
    "            if i!=0:\n",
    "                if line[1984]==\"NULL\" or line[1984]==\"PrivacySuppressed\":\n",
    "                    continue\n",
    "                elif float(line[1984])>1:\n",
    "                    continue\n",
    "            #save new file with only % getting loans, state abbreviation, distance check, mean eaning after 10 years, and median debt\n",
    "            file2.write(f\"{str(line[1984])}, {str(line[5])}, {str(line[289])}, {str(line[1638])}, {str(line[1709])}\\n\")\n",
    "\n",
    "#convert to data frame to sort by percent of students recieving federal loans\n",
    "import pandas as panda\n",
    "inst_data=panda.read_csv(new_file)\n",
    "inst_data=panda.DataFrame(inst_data)\n",
    "inst_data.columns=[\"%Loans\",\"State\",\"Distance-Only\",\"Mean-Earnings\",\"Median-Debt\"]\n",
    "inst_data.sort_values([\"%Loans\"],axis=0,ascending=[False],inplace=True)\n",
    "#save only top 50 - sourced from https://www.geeksforgeeks.org/get-first-n-records-of-a-pandas-dataframe/\n",
    "inst_50=inst_data.head(50)\n",
    "inst_50=panda.DataFrame(inst_50)\n",
    "inst_50.columns=[\"%Loans\",\"State\",\"Distance-Only\",\"Mean-Earnings\",\"Median-Debt\"]\n",
    "print(\"Top 50 institions for percent of students utilizing loans:\")\n",
    "inst_50"
   ]
  },
  {
   "cell_type": "markdown",
   "metadata": {},
   "source": [
    " 1a) How many of the top 50 (by % receiving loans) are located in NC?"
   ]
  },
  {
   "cell_type": "code",
   "execution_count": null,
   "metadata": {},
   "outputs": [],
   "source": [
    "#filter by nc - help sourced at https://pandas.pydata.org/pandas-docs/stable/getting_started/intro_tutorials/03_subset_data.html\n",
    "#all states have a space before abbreviation letters\n",
    "nc_inst=inst_50[inst_50[\"State\"]==\" NC\"]\n",
    "#count number of rows containing NC as the state abbreviation\n",
    "count=len([1 for row in nc_inst.index])\n",
    "print(\"The number of top 50 insitutions located in NC = \" + str(count))"
   ]
  },
  {
   "cell_type": "markdown",
   "metadata": {},
   "source": [
    "1b) How many of the top 50 (by % receiving loans) are distance only?"
   ]
  },
  {
   "cell_type": "code",
   "execution_count": null,
   "metadata": {},
   "outputs": [],
   "source": [
    "#filter for only colleges with distance only value of 1\n",
    "distance_inst=inst_50[inst_50[\"Distance-Only\"]==1]\n",
    "count=0\n",
    "#count rows in filtered dataframe\n",
    "count=len([1 for row in distance_inst.index])\n",
    "print(\"The number of top 50 insitutions that are distance only = \" + str(count))"
   ]
  },
  {
   "cell_type": "markdown",
   "metadata": {},
   "source": [
    "*Note: data is stored as strings rather than integers/floats due to schools entering \"PrivacySuppressed\" instead of data on occasion\n"
   ]
  },
  {
   "cell_type": "code",
   "execution_count": null,
   "metadata": {},
   "outputs": [],
   "source": [
    "#function to return only values with int inside as int\n",
    "def value(item):\n",
    "    try:\n",
    "        return int(item)\n",
    "    except:\n",
    "        return"
   ]
  },
  {
   "cell_type": "markdown",
   "metadata": {},
   "source": [
    "1c) What is the mean earning of students 10 years after enrollment of those schools?"
   ]
  },
  {
   "cell_type": "code",
   "execution_count": null,
   "metadata": {},
   "outputs": [],
   "source": [
    "#isolate actual data from \"NULL\" or \"PrivacySuppressed\"\n",
    "total_means=[value(item.strip(\" \")) for item in (inst_50[\"Mean-Earnings\"]) if type(value(item.strip(\" \")))==int]\n",
    "#calculate average\n",
    "all=sum(total_means)\n",
    "average=all/len(total_means)\n",
    "print(f\"Average mean earning of students 10 years after enrollment from those schools = {average}\")"
   ]
  },
  {
   "cell_type": "markdown",
   "metadata": {},
   "source": [
    "2) What is the national median debt for graduates (GRAD_DEBT_MDN_SUPP) compared to the median for NC schools?"
   ]
  },
  {
   "cell_type": "code",
   "execution_count": null,
   "metadata": {},
   "outputs": [],
   "source": [
    "#isolate nc institutions\n",
    "all_nc_insts=inst_data[inst_data[\"State\"]==\" NC\"]\n",
    "#get list of medians\n",
    "medians=[value(item.strip(\" \")) for item in (inst_data[\"Median-Debt\"]) if type(value(item.strip(\" \")))==int]\n",
    "nc_medians=[value(item.strip(\" \")) for item in (all_nc_insts[\"Median-Debt\"]) if type(value(item.strip(\" \")))==int]\n",
    "#sum and average all medians\n",
    "tot=sum(medians)\n",
    "nc_tot=sum(nc_medians)\n",
    "mean_of_med=tot/len(medians)\n",
    "mean_of_ncmed=nc_tot/len(nc_medians)\n",
    "#subtract difference between average medians\n",
    "difference=mean_of_med-mean_of_ncmed\n",
    "print(f\"Average median debt of schools in USA compared to schools in NC = {difference}\")"
   ]
  }
 ],
 "metadata": {
  "kernelspec": {
   "display_name": "Python 3",
   "language": "python",
   "name": "python3"
  },
  "language_info": {
   "codemirror_mode": {
    "name": "ipython",
    "version": 3
   },
   "file_extension": ".py",
   "mimetype": "text/x-python",
   "name": "python",
   "nbconvert_exporter": "python",
   "pygments_lexer": "ipython3",
   "version": "3.11.5"
  }
 },
 "nbformat": 4,
 "nbformat_minor": 2
}
