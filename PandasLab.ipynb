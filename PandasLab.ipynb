{
 "cells": [
  {
   "cell_type": "markdown",
   "metadata": {},
   "source": [
    "## Pandas Lab 1\n",
    "evaught@uncc.edu\n",
    "04/04/2024\n",
    "Python2"
   ]
  },
  {
   "cell_type": "markdown",
   "metadata": {},
   "source": [
    "read in the provided FASTA file"
   ]
  },
  {
   "cell_type": "code",
   "execution_count": null,
   "metadata": {},
   "outputs": [],
   "source": [
    "def reading():\n",
    "    header,seq=\"\",\"\"\n",
    "    path=\"\"\n",
    "    name=\"Mdomestica-pandasLab.fa\"\n",
    "    with open(path+name,\"r\") as file:\n",
    "        for line in file:\n",
    "            if line.startswith(\">\"):\n",
    "                if header!=\"\":\n",
    "                    yield (header,seq)\n",
    "                line=line.strip(\">\").split(\" \")\n",
    "                header=line[0]\n",
    "                seq=\"\"\n",
    "            else:\n",
    "                seq+=line.strip()\n",
    "for unit in reading():\n",
    "    print(unit)"
   ]
  },
  {
   "cell_type": "markdown",
   "metadata": {},
   "source": [
    "make dictionary that holds\n",
    "\n",
    "- calculate GC content\n",
    "- check if Begins with start codon?\n",
    "- check if Ends in stop codon?\n",
    "- calculate: is the length a multiple of 3? ie. complete frame?"
   ]
  },
  {
   "cell_type": "code",
   "execution_count": null,
   "metadata": {},
   "outputs": [],
   "source": [
    "\n",
    "def calc_info():\n",
    "    data={}\n",
    "    for unit in reading():\n",
    "        count,gc,start,stop,triplet=0,0,\"\",\"\",\"\"\n",
    "        header,seq=unit\n",
    "        #start dictionary with length of seq\n",
    "        data[header]=[len(seq)]\n",
    "        #calculate gc content\n",
    "        for letter in seq:\n",
    "            if letter in (\"GC\"):\n",
    "                count+=1\n",
    "        gc=int((count/len(seq))*100)\n",
    "        #add gc content to dictionary\n",
    "        data[header].append(gc)\n",
    "        #add start/stop codon check to dictionary - codon codes found at https://www.news-medical.net/life-sciences/START-and-STOP-Codons.aspx\n",
    "        if seq[0:3] ==\"ATG\":\n",
    "            start=True\n",
    "        else:\n",
    "            start=False\n",
    "        data[header].append(start)\n",
    "        if seq[len(seq)-3:len(seq)] == \"TAA\" or \"TAG\" or \"TGA\" :\n",
    "            stop=True\n",
    "        else:\n",
    "            stop=False\n",
    "        data[header].append(stop)  \n",
    "        #add frame check to dictionary\n",
    "        if len(seq)%3==0:\n",
    "            triplet=True\n",
    "        else:\n",
    "            triplet=False\n",
    "        data[header].append(triplet)\n",
    "    return data\n",
    "calc_info()"
   ]
  },
  {
   "cell_type": "markdown",
   "metadata": {},
   "source": [
    "Make data frame\n",
    "row index: sequence label\n",
    "columns :labeled with descriptions of these 5 criteria\n",
    "1. Sequence Length\n",
    "2. GC content\n",
    "3. Begins with start codon?\n",
    "4. Ends in stop codon?\n",
    "5. Is the length a multiple of 3? ie. complete frame?\n",
    "Be mindful of the datatype you choose for description 3-5"
   ]
  },
  {
   "cell_type": "code",
   "execution_count": null,
   "metadata": {},
   "outputs": [],
   "source": [
    "import pandas as panda\n",
    "#.T method to switch colums to rows was found at https://note.nkmk.me/en/python-pandas-t-transpose/\n",
    "fasta_info=panda.DataFrame(calc_info(),index=[\"Sequence Length\",\"GC%\",\"Valid Start\",\"Valid Stop\",\"Complete Frame\"]).T\n",
    "fasta_info"
   ]
  }
 ],
 "metadata": {
  "kernelspec": {
   "display_name": "Python 3",
   "language": "python",
   "name": "python3"
  },
  "language_info": {
   "codemirror_mode": {
    "name": "ipython",
    "version": 3
   },
   "file_extension": ".py",
   "mimetype": "text/x-python",
   "name": "python",
   "nbconvert_exporter": "python",
   "pygments_lexer": "ipython3",
   "version": "3.11.5"
  }
 },
 "nbformat": 4,
 "nbformat_minor": 2
}
